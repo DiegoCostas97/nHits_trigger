{
 "cells": [
  {
   "cell_type": "code",
   "execution_count": 1,
   "id": "69a07b8e",
   "metadata": {},
   "outputs": [],
   "source": [
    "import json\n",
    "import sys\n",
    "import gc\n",
    "import os\n",
    "import uproot\n",
    "\n",
    "# Añade el directorio padre al sys.path\n",
    "sys.path.append(os.path.abspath(\"/eos/home-d/dcostasr/SWAN_projects/2025_data\"))\n",
    "sys.path.append('/eos/home-d/dcostasr/SWAN_projects/software/hipy')\n",
    "\n",
    "import numpy       as np\n",
    "import pandas      as pd\n",
    "import hipy.pltext as pltext\n",
    "import awkward     as ak\n",
    "import matplotlib.pyplot as plt\n",
    "\n",
    "from wcte.brbtools import sort_run_files, get_part_files, select_good_parts\n",
    "from tqdm          import tqdm\n",
    "\n",
    "%load_ext autoreload\n",
    "%autoreload 2\n",
    "\n",
    "pltext.style()"
   ]
  },
  {
   "cell_type": "code",
   "execution_count": 6,
   "id": "b56e0011",
   "metadata": {},
   "outputs": [],
   "source": [
    "def get_files_from_part(part_file, run_files):\n",
    "    \"\"\"\n",
    "    Input a part_file number and the run_files list created with sort_run_files.\n",
    "    Extracts all the card_id, channel_id, charge and time information from the hits.\n",
    "    Returns the arrays for the variables for the part_file.\n",
    "    \"\"\"\n",
    "    tree = uproot.open(run_files[part_file]+\":WCTEReadoutWindows\")\n",
    "    file_hit_card_ids    = tree[\"hit_mpmt_card_ids\"].array()\n",
    "    file_hit_channel_ids = tree[\"hit_pmt_channel_ids\"].array()\n",
    "    file_hit_charges     = tree[\"hit_pmt_charges\"].array()\n",
    "    file_hit_times       = tree[\"hit_pmt_times\"].array()\n",
    "    file_event_number    = tree[\"event_number\"].array()\n",
    "\n",
    "    return file_hit_card_ids, file_hit_channel_ids, file_hit_charges, file_hit_times, file_event_number"
   ]
  },
  {
   "cell_type": "code",
   "execution_count": 3,
   "id": "d31cd6e4",
   "metadata": {},
   "outputs": [
    {
     "name": "stderr",
     "output_type": "stream",
     "text": [
      "Selecting Good Parts: 100%|██████████| 9/9 [00:00<00:00, 47.12it/s]\n"
     ]
    }
   ],
   "source": [
    "run        = 1626\n",
    "run_files  = sort_run_files(f\"/eos/experiment/wcte/data/2025_commissioning/offline_data/{run}/WCTE_offline_R{run}S*P*.root\")\n",
    "part_files = get_part_files(run_files)\n",
    "good_parts = select_good_parts(part_files, run_files)"
   ]
  },
  {
   "cell_type": "code",
   "execution_count": 4,
   "id": "b759f01c",
   "metadata": {},
   "outputs": [],
   "source": [
    "with open('/eos/home-d/dcostasr/SWAN_projects/NiCf/offline_trigger/mmc_map_R1609.json') as f:\n",
    "    mcc_map = json.load(f)\n",
    "\n",
    "d = {}\n",
    "for k,v in zip(mcc_map.keys(), mcc_map.values()):\n",
    "    card, channel = [int(i) for i in str(int(k)/100).split(\".\")]\n",
    "    d[(card, channel)] = v\n",
    "\n",
    "mcc_map = d"
   ]
  },
  {
   "cell_type": "code",
   "execution_count": 8,
   "id": "faa2321b",
   "metadata": {},
   "outputs": [
    {
     "name": "stderr",
     "output_type": "stream",
     "text": [
      "  0%|          | 0/2 [00:01<?, ?it/s]\n"
     ]
    },
    {
     "ename": "ValueError",
     "evalue": "cannot convert to RegularArray because subarray lengths are not regular (in compiled code: https://github.com/scikit-hep/awkward/blob/awkward-cpp-45/awkward-cpp/src/cpu-kernels/awkward_ListOffsetArray_toRegularArray.cpp#L22)",
     "output_type": "error",
     "traceback": [
      "\u001b[0;31m---------------------------------------------------------------------------\u001b[0m",
      "\u001b[0;31mValueError\u001b[0m                                Traceback (most recent call last)",
      "Cell \u001b[0;32mIn[8], line 11\u001b[0m\n\u001b[1;32m      8\u001b[0m files \u001b[38;5;241m=\u001b[39m get_files_from_part(good_parts[ipar], run_files)\n\u001b[1;32m     10\u001b[0m events   \u001b[38;5;241m=\u001b[39m np\u001b[38;5;241m.\u001b[39mconcatenate((events, np\u001b[38;5;241m.\u001b[39marray(files[\u001b[38;5;241m4\u001b[39m])), axis\u001b[38;5;241m=\u001b[39m\u001b[38;5;28;01mNone\u001b[39;00m)\n\u001b[0;32m---> 11\u001b[0m times    \u001b[38;5;241m=\u001b[39m np\u001b[38;5;241m.\u001b[39mconcatenate((times,  \u001b[43mnp\u001b[49m\u001b[38;5;241;43m.\u001b[39;49m\u001b[43marray\u001b[49m\u001b[43m(\u001b[49m\u001b[43mfiles\u001b[49m\u001b[43m[\u001b[49m\u001b[38;5;241;43m3\u001b[39;49m\u001b[43m]\u001b[49m\u001b[43m)\u001b[49m), axis\u001b[38;5;241m=\u001b[39m\u001b[38;5;28;01mNone\u001b[39;00m)\n\u001b[1;32m     12\u001b[0m cards    \u001b[38;5;241m=\u001b[39m np\u001b[38;5;241m.\u001b[39mconcatenate((cards,  np\u001b[38;5;241m.\u001b[39marray(files[\u001b[38;5;241m0\u001b[39m])), axis\u001b[38;5;241m=\u001b[39m\u001b[38;5;28;01mNone\u001b[39;00m)\n\u001b[1;32m     13\u001b[0m channels \u001b[38;5;241m=\u001b[39m np\u001b[38;5;241m.\u001b[39mconcatenate((channels,  np\u001b[38;5;241m.\u001b[39marray(files[\u001b[38;5;241m1\u001b[39m])), axis\u001b[38;5;241m=\u001b[39m\u001b[38;5;28;01mNone\u001b[39;00m)\n",
      "File \u001b[0;32m/eos/home-d/dcostasr/conda_envs/wcte/lib/python3.10/site-packages/awkward/highlevel.py:1538\u001b[0m, in \u001b[0;36mArray.__array__\u001b[0;34m(self, dtype)\u001b[0m\n\u001b[1;32m   1513\u001b[0m \u001b[38;5;28;01mdef\u001b[39;00m\u001b[38;5;250m \u001b[39m\u001b[38;5;21m__array__\u001b[39m(\u001b[38;5;28mself\u001b[39m, dtype\u001b[38;5;241m=\u001b[39m\u001b[38;5;28;01mNone\u001b[39;00m):\n\u001b[1;32m   1514\u001b[0m \u001b[38;5;250m    \u001b[39m\u001b[38;5;124;03m\"\"\"\u001b[39;00m\n\u001b[1;32m   1515\u001b[0m \u001b[38;5;124;03m    Intercepts attempts to convert this Array into a NumPy array and\u001b[39;00m\n\u001b[1;32m   1516\u001b[0m \u001b[38;5;124;03m    either performs a zero-copy conversion or raises an error.\u001b[39;00m\n\u001b[0;32m   (...)\u001b[0m\n\u001b[1;32m   1536\u001b[0m \u001b[38;5;124;03m    cannot be sliced as dimensions.\u001b[39;00m\n\u001b[1;32m   1537\u001b[0m \u001b[38;5;124;03m    \"\"\"\u001b[39;00m\n\u001b[0;32m-> 1538\u001b[0m     \u001b[38;5;28;01mwith\u001b[39;00m ak\u001b[38;5;241m.\u001b[39m_errors\u001b[38;5;241m.\u001b[39mOperationErrorContext(\n\u001b[1;32m   1539\u001b[0m         \u001b[38;5;124m\"\u001b[39m\u001b[38;5;124mnumpy.asarray\u001b[39m\u001b[38;5;124m\"\u001b[39m, (\u001b[38;5;28mself\u001b[39m,), {\u001b[38;5;124m\"\u001b[39m\u001b[38;5;124mdtype\u001b[39m\u001b[38;5;124m\"\u001b[39m: dtype}\n\u001b[1;32m   1540\u001b[0m     ):\n\u001b[1;32m   1541\u001b[0m         \u001b[38;5;28;01mfrom\u001b[39;00m\u001b[38;5;250m \u001b[39m\u001b[38;5;21;01mawkward\u001b[39;00m\u001b[38;5;21;01m.\u001b[39;00m\u001b[38;5;21;01m_connect\u001b[39;00m\u001b[38;5;21;01m.\u001b[39;00m\u001b[38;5;21;01mnumpy\u001b[39;00m\u001b[38;5;250m \u001b[39m\u001b[38;5;28;01mimport\u001b[39;00m convert_to_array\n\u001b[1;32m   1543\u001b[0m         \u001b[38;5;28;01mreturn\u001b[39;00m convert_to_array(\u001b[38;5;28mself\u001b[39m\u001b[38;5;241m.\u001b[39m_layout, dtype\u001b[38;5;241m=\u001b[39mdtype)\n",
      "File \u001b[0;32m/eos/home-d/dcostasr/conda_envs/wcte/lib/python3.10/site-packages/awkward/_errors.py:80\u001b[0m, in \u001b[0;36mErrorContext.__exit__\u001b[0;34m(self, exception_type, exception_value, traceback)\u001b[0m\n\u001b[1;32m     78\u001b[0m     \u001b[38;5;28mself\u001b[39m\u001b[38;5;241m.\u001b[39m_slate\u001b[38;5;241m.\u001b[39m\u001b[38;5;18m__dict__\u001b[39m\u001b[38;5;241m.\u001b[39mclear()\n\u001b[1;32m     79\u001b[0m     \u001b[38;5;66;03m# Handle caught exception\u001b[39;00m\n\u001b[0;32m---> 80\u001b[0m     \u001b[38;5;28;01mraise\u001b[39;00m \u001b[38;5;28mself\u001b[39m\u001b[38;5;241m.\u001b[39mdecorate_exception(exception_type, exception_value)\n\u001b[1;32m     81\u001b[0m \u001b[38;5;28;01melse\u001b[39;00m:\n\u001b[1;32m     82\u001b[0m     \u001b[38;5;66;03m# Step out of the way so that another ErrorContext can become primary.\u001b[39;00m\n\u001b[1;32m     83\u001b[0m     \u001b[38;5;28;01mif\u001b[39;00m \u001b[38;5;28mself\u001b[39m\u001b[38;5;241m.\u001b[39mprimary() \u001b[38;5;129;01mis\u001b[39;00m \u001b[38;5;28mself\u001b[39m:\n",
      "File \u001b[0;32m/eos/home-d/dcostasr/conda_envs/wcte/lib/python3.10/site-packages/awkward/highlevel.py:1543\u001b[0m, in \u001b[0;36mArray.__array__\u001b[0;34m(self, dtype)\u001b[0m\n\u001b[1;32m   1538\u001b[0m \u001b[38;5;28;01mwith\u001b[39;00m ak\u001b[38;5;241m.\u001b[39m_errors\u001b[38;5;241m.\u001b[39mOperationErrorContext(\n\u001b[1;32m   1539\u001b[0m     \u001b[38;5;124m\"\u001b[39m\u001b[38;5;124mnumpy.asarray\u001b[39m\u001b[38;5;124m\"\u001b[39m, (\u001b[38;5;28mself\u001b[39m,), {\u001b[38;5;124m\"\u001b[39m\u001b[38;5;124mdtype\u001b[39m\u001b[38;5;124m\"\u001b[39m: dtype}\n\u001b[1;32m   1540\u001b[0m ):\n\u001b[1;32m   1541\u001b[0m     \u001b[38;5;28;01mfrom\u001b[39;00m\u001b[38;5;250m \u001b[39m\u001b[38;5;21;01mawkward\u001b[39;00m\u001b[38;5;21;01m.\u001b[39;00m\u001b[38;5;21;01m_connect\u001b[39;00m\u001b[38;5;21;01m.\u001b[39;00m\u001b[38;5;21;01mnumpy\u001b[39;00m\u001b[38;5;250m \u001b[39m\u001b[38;5;28;01mimport\u001b[39;00m convert_to_array\n\u001b[0;32m-> 1543\u001b[0m     \u001b[38;5;28;01mreturn\u001b[39;00m \u001b[43mconvert_to_array\u001b[49m\u001b[43m(\u001b[49m\u001b[38;5;28;43mself\u001b[39;49m\u001b[38;5;241;43m.\u001b[39;49m\u001b[43m_layout\u001b[49m\u001b[43m,\u001b[49m\u001b[43m \u001b[49m\u001b[43mdtype\u001b[49m\u001b[38;5;241;43m=\u001b[39;49m\u001b[43mdtype\u001b[49m\u001b[43m)\u001b[49m\n",
      "File \u001b[0;32m/eos/home-d/dcostasr/conda_envs/wcte/lib/python3.10/site-packages/awkward/_connect/numpy.py:511\u001b[0m, in \u001b[0;36mconvert_to_array\u001b[0;34m(layout, dtype)\u001b[0m\n\u001b[1;32m    510\u001b[0m \u001b[38;5;28;01mdef\u001b[39;00m\u001b[38;5;250m \u001b[39m\u001b[38;5;21mconvert_to_array\u001b[39m(layout, dtype\u001b[38;5;241m=\u001b[39m\u001b[38;5;28;01mNone\u001b[39;00m):\n\u001b[0;32m--> 511\u001b[0m     out \u001b[38;5;241m=\u001b[39m \u001b[43mak\u001b[49m\u001b[38;5;241;43m.\u001b[39;49m\u001b[43moperations\u001b[49m\u001b[38;5;241;43m.\u001b[39;49m\u001b[43mto_numpy\u001b[49m\u001b[43m(\u001b[49m\u001b[43mlayout\u001b[49m\u001b[43m,\u001b[49m\u001b[43m \u001b[49m\u001b[43mallow_missing\u001b[49m\u001b[38;5;241;43m=\u001b[39;49m\u001b[38;5;28;43;01mFalse\u001b[39;49;00m\u001b[43m)\u001b[49m\n\u001b[1;32m    512\u001b[0m     \u001b[38;5;28;01mif\u001b[39;00m dtype \u001b[38;5;129;01mis\u001b[39;00m \u001b[38;5;28;01mNone\u001b[39;00m:\n\u001b[1;32m    513\u001b[0m         \u001b[38;5;28;01mreturn\u001b[39;00m out\n",
      "File \u001b[0;32m/eos/home-d/dcostasr/conda_envs/wcte/lib/python3.10/site-packages/awkward/_dispatch.py:64\u001b[0m, in \u001b[0;36mnamed_high_level_function.<locals>.dispatch\u001b[0;34m(*args, **kwargs)\u001b[0m\n\u001b[1;32m     62\u001b[0m \u001b[38;5;66;03m# Failed to find a custom overload, so resume the original function\u001b[39;00m\n\u001b[1;32m     63\u001b[0m \u001b[38;5;28;01mtry\u001b[39;00m:\n\u001b[0;32m---> 64\u001b[0m     \u001b[38;5;28;43mnext\u001b[39;49m\u001b[43m(\u001b[49m\u001b[43mgen_or_result\u001b[49m\u001b[43m)\u001b[49m\n\u001b[1;32m     65\u001b[0m \u001b[38;5;28;01mexcept\u001b[39;00m \u001b[38;5;167;01mStopIteration\u001b[39;00m \u001b[38;5;28;01mas\u001b[39;00m err:\n\u001b[1;32m     66\u001b[0m     \u001b[38;5;28;01mreturn\u001b[39;00m err\u001b[38;5;241m.\u001b[39mvalue\n",
      "File \u001b[0;32m/eos/home-d/dcostasr/conda_envs/wcte/lib/python3.10/site-packages/awkward/operations/ak_to_numpy.py:48\u001b[0m, in \u001b[0;36mto_numpy\u001b[0;34m(array, allow_missing)\u001b[0m\n\u001b[1;32m     45\u001b[0m \u001b[38;5;28;01myield\u001b[39;00m (array,)\n\u001b[1;32m     47\u001b[0m \u001b[38;5;66;03m# Implementation\u001b[39;00m\n\u001b[0;32m---> 48\u001b[0m \u001b[38;5;28;01mreturn\u001b[39;00m \u001b[43m_impl\u001b[49m\u001b[43m(\u001b[49m\u001b[43marray\u001b[49m\u001b[43m,\u001b[49m\u001b[43m \u001b[49m\u001b[43mallow_missing\u001b[49m\u001b[43m)\u001b[49m\n",
      "File \u001b[0;32m/eos/home-d/dcostasr/conda_envs/wcte/lib/python3.10/site-packages/awkward/operations/ak_to_numpy.py:60\u001b[0m, in \u001b[0;36m_impl\u001b[0;34m(array, allow_missing)\u001b[0m\n\u001b[1;32m     57\u001b[0m backend \u001b[38;5;241m=\u001b[39m NumpyBackend\u001b[38;5;241m.\u001b[39minstance()\n\u001b[1;32m     58\u001b[0m numpy_layout \u001b[38;5;241m=\u001b[39m layout\u001b[38;5;241m.\u001b[39mto_backend(backend)\n\u001b[0;32m---> 60\u001b[0m \u001b[38;5;28;01mreturn\u001b[39;00m \u001b[43mnumpy_layout\u001b[49m\u001b[38;5;241;43m.\u001b[39;49m\u001b[43mto_backend_array\u001b[49m\u001b[43m(\u001b[49m\u001b[43mallow_missing\u001b[49m\u001b[38;5;241;43m=\u001b[39;49m\u001b[43mallow_missing\u001b[49m\u001b[43m)\u001b[49m\n",
      "File \u001b[0;32m/eos/home-d/dcostasr/conda_envs/wcte/lib/python3.10/site-packages/awkward/contents/content.py:1121\u001b[0m, in \u001b[0;36mContent.to_backend_array\u001b[0;34m(self, allow_missing, backend)\u001b[0m\n\u001b[1;32m   1119\u001b[0m \u001b[38;5;28;01melse\u001b[39;00m:\n\u001b[1;32m   1120\u001b[0m     backend \u001b[38;5;241m=\u001b[39m regularize_backend(backend)\n\u001b[0;32m-> 1121\u001b[0m \u001b[38;5;28;01mreturn\u001b[39;00m \u001b[38;5;28;43mself\u001b[39;49m\u001b[38;5;241;43m.\u001b[39;49m\u001b[43m_to_backend_array\u001b[49m\u001b[43m(\u001b[49m\u001b[43mallow_missing\u001b[49m\u001b[43m,\u001b[49m\u001b[43m \u001b[49m\u001b[43mbackend\u001b[49m\u001b[43m)\u001b[49m\n",
      "File \u001b[0;32m/eos/home-d/dcostasr/conda_envs/wcte/lib/python3.10/site-packages/awkward/contents/listoffsetarray.py:2142\u001b[0m, in \u001b[0;36mListOffsetArray._to_backend_array\u001b[0;34m(self, allow_missing, backend)\u001b[0m\n\u001b[1;32m   2140\u001b[0m     \u001b[38;5;28;01mreturn\u001b[39;00m buffer\u001b[38;5;241m.\u001b[39mview(np\u001b[38;5;241m.\u001b[39mdtype((\u001b[38;5;124m\"\u001b[39m\u001b[38;5;124mS\u001b[39m\u001b[38;5;124m\"\u001b[39m, max_count)))\n\u001b[1;32m   2141\u001b[0m \u001b[38;5;28;01melse\u001b[39;00m:\n\u001b[0;32m-> 2142\u001b[0m     \u001b[38;5;28;01mreturn\u001b[39;00m \u001b[38;5;28;43mself\u001b[39;49m\u001b[38;5;241;43m.\u001b[39;49m\u001b[43mto_RegularArray\u001b[49m\u001b[43m(\u001b[49m\u001b[43m)\u001b[49m\u001b[38;5;241m.\u001b[39m_to_backend_array(allow_missing, backend)\n",
      "File \u001b[0;32m/eos/home-d/dcostasr/conda_envs/wcte/lib/python3.10/site-packages/awkward/contents/listoffsetarray.py:293\u001b[0m, in \u001b[0;36mListOffsetArray.to_RegularArray\u001b[0;34m(self)\u001b[0m\n\u001b[1;32m    288\u001b[0m _size \u001b[38;5;241m=\u001b[39m Index64\u001b[38;5;241m.\u001b[39mempty(\u001b[38;5;241m1\u001b[39m, \u001b[38;5;28mself\u001b[39m\u001b[38;5;241m.\u001b[39m_backend\u001b[38;5;241m.\u001b[39mindex_nplike)\n\u001b[1;32m    289\u001b[0m \u001b[38;5;28;01massert\u001b[39;00m (\n\u001b[1;32m    290\u001b[0m     _size\u001b[38;5;241m.\u001b[39mnplike \u001b[38;5;129;01mis\u001b[39;00m \u001b[38;5;28mself\u001b[39m\u001b[38;5;241m.\u001b[39m_backend\u001b[38;5;241m.\u001b[39mindex_nplike\n\u001b[1;32m    291\u001b[0m     \u001b[38;5;129;01mand\u001b[39;00m \u001b[38;5;28mself\u001b[39m\u001b[38;5;241m.\u001b[39m_offsets\u001b[38;5;241m.\u001b[39mnplike \u001b[38;5;129;01mis\u001b[39;00m \u001b[38;5;28mself\u001b[39m\u001b[38;5;241m.\u001b[39m_backend\u001b[38;5;241m.\u001b[39mindex_nplike\n\u001b[1;32m    292\u001b[0m )\n\u001b[0;32m--> 293\u001b[0m \u001b[38;5;28;43mself\u001b[39;49m\u001b[38;5;241;43m.\u001b[39;49m\u001b[43m_backend\u001b[49m\u001b[38;5;241;43m.\u001b[39;49m\u001b[43mmaybe_kernel_error\u001b[49m\u001b[43m(\u001b[49m\n\u001b[1;32m    294\u001b[0m \u001b[43m    \u001b[49m\u001b[38;5;28;43mself\u001b[39;49m\u001b[38;5;241;43m.\u001b[39;49m\u001b[43m_backend\u001b[49m\u001b[43m[\u001b[49m\n\u001b[1;32m    295\u001b[0m \u001b[43m        \u001b[49m\u001b[38;5;124;43m\"\u001b[39;49m\u001b[38;5;124;43mawkward_ListOffsetArray_toRegularArray\u001b[39;49m\u001b[38;5;124;43m\"\u001b[39;49m\u001b[43m,\u001b[49m\n\u001b[1;32m    296\u001b[0m \u001b[43m        \u001b[49m\u001b[43m_size\u001b[49m\u001b[38;5;241;43m.\u001b[39;49m\u001b[43mdtype\u001b[49m\u001b[38;5;241;43m.\u001b[39;49m\u001b[43mtype\u001b[49m\u001b[43m,\u001b[49m\n\u001b[1;32m    297\u001b[0m \u001b[43m        \u001b[49m\u001b[38;5;28;43mself\u001b[39;49m\u001b[38;5;241;43m.\u001b[39;49m\u001b[43m_offsets\u001b[49m\u001b[38;5;241;43m.\u001b[39;49m\u001b[43mdtype\u001b[49m\u001b[38;5;241;43m.\u001b[39;49m\u001b[43mtype\u001b[49m\u001b[43m,\u001b[49m\n\u001b[1;32m    298\u001b[0m \u001b[43m    \u001b[49m\u001b[43m]\u001b[49m\u001b[43m(\u001b[49m\n\u001b[1;32m    299\u001b[0m \u001b[43m        \u001b[49m\u001b[43m_size\u001b[49m\u001b[38;5;241;43m.\u001b[39;49m\u001b[43mdata\u001b[49m\u001b[43m,\u001b[49m\n\u001b[1;32m    300\u001b[0m \u001b[43m        \u001b[49m\u001b[38;5;28;43mself\u001b[39;49m\u001b[38;5;241;43m.\u001b[39;49m\u001b[43m_offsets\u001b[49m\u001b[38;5;241;43m.\u001b[39;49m\u001b[43mdata\u001b[49m\u001b[43m,\u001b[49m\n\u001b[1;32m    301\u001b[0m \u001b[43m        \u001b[49m\u001b[38;5;28;43mself\u001b[39;49m\u001b[38;5;241;43m.\u001b[39;49m\u001b[43m_offsets\u001b[49m\u001b[38;5;241;43m.\u001b[39;49m\u001b[43mlength\u001b[49m\u001b[43m,\u001b[49m\n\u001b[1;32m    302\u001b[0m \u001b[43m    \u001b[49m\u001b[43m)\u001b[49m\n\u001b[1;32m    303\u001b[0m \u001b[43m\u001b[49m\u001b[43m)\u001b[49m\n\u001b[1;32m    304\u001b[0m size \u001b[38;5;241m=\u001b[39m \u001b[38;5;28mself\u001b[39m\u001b[38;5;241m.\u001b[39m_backend\u001b[38;5;241m.\u001b[39mindex_nplike\u001b[38;5;241m.\u001b[39mindex_as_shape_item(_size[\u001b[38;5;241m0\u001b[39m])\n\u001b[1;32m    305\u001b[0m length \u001b[38;5;241m=\u001b[39m \u001b[38;5;28mself\u001b[39m\u001b[38;5;241m.\u001b[39m_offsets\u001b[38;5;241m.\u001b[39mlength \u001b[38;5;241m-\u001b[39m \u001b[38;5;241m1\u001b[39m\n",
      "File \u001b[0;32m/eos/home-d/dcostasr/conda_envs/wcte/lib/python3.10/site-packages/awkward/_backends/backend.py:67\u001b[0m, in \u001b[0;36mBackend.maybe_kernel_error\u001b[0;34m(self, error)\u001b[0m\n\u001b[1;32m     65\u001b[0m     \u001b[38;5;28;01mreturn\u001b[39;00m\n\u001b[1;32m     66\u001b[0m \u001b[38;5;28;01melse\u001b[39;00m:\n\u001b[0;32m---> 67\u001b[0m     \u001b[38;5;28;01mraise\u001b[39;00m \u001b[38;5;167;01mValueError\u001b[39;00m(\u001b[38;5;28mself\u001b[39m\u001b[38;5;241m.\u001b[39mformat_kernel_error(error))\n",
      "\u001b[0;31mValueError\u001b[0m: cannot convert to RegularArray because subarray lengths are not regular (in compiled code: https://github.com/scikit-hep/awkward/blob/awkward-cpp-45/awkward-cpp/src/cpu-kernels/awkward_ListOffsetArray_toRegularArray.cpp#L22)",
      "\u001b[0m\nThis error occurred while calling\n\n    numpy.asarray(\n        <Array [[1.06e+07, ..., 7.12e+07], ...] type='276 * var * float64'>\n        dtype = None\n    )"
     ]
    }
   ],
   "source": [
    "events = np.array([])\n",
    "times  = np.array([])\n",
    "cards  = np.array([])\n",
    "channels = np.array([])\n",
    "\n",
    "evt_offset = 0\n",
    "for ipar in tqdm(good_parts[:2], total=len(good_parts[:2])):\n",
    "    files = get_files_from_part(good_parts[ipar], run_files)\n",
    "\n",
    "    events   = np.concatenate((events, np.array(files[4])), axis=None)\n",
    "    times    = np.concatenate((times,  np.array(files[3])), axis=None)\n",
    "    cards    = np.concatenate((cards,  np.array(files[0])), axis=None)\n",
    "    channels = np.concatenate((channels,  np.array(files[1])), axis=None)\n",
    "        \n",
    "    # df    = create_df_from_file_fast(files, mcc_map)\n",
    "    # df['evt'] += evt_offset\n",
    "    # evt_offset = df['evt'].max() + 1\n",
    "    # dfs.append(df)"
   ]
  },
  {
   "cell_type": "code",
   "execution_count": null,
   "id": "b8efc75e",
   "metadata": {},
   "outputs": [],
   "source": []
  }
 ],
 "metadata": {
  "kernelspec": {
   "display_name": "wcte",
   "language": "python",
   "name": "python3"
  },
  "language_info": {
   "codemirror_mode": {
    "name": "ipython",
    "version": 3
   },
   "file_extension": ".py",
   "mimetype": "text/x-python",
   "name": "python",
   "nbconvert_exporter": "python",
   "pygments_lexer": "ipython3",
   "version": "3.10.16"
  }
 },
 "nbformat": 4,
 "nbformat_minor": 5
}
