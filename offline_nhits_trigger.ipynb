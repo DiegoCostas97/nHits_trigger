{
 "cells": [
  {
   "cell_type": "code",
   "execution_count": 1,
   "id": "7eed619d",
   "metadata": {},
   "outputs": [],
   "source": [
    "import json\n",
    "import sys\n",
    "import gc\n",
    "import os\n",
    "import uproot\n",
    "\n",
    "# Añade el directorio padre al sys.path\n",
    "sys.path.append(os.path.abspath(\"/eos/home-d/dcostasr/SWAN_projects/2025_data\"))\n",
    "sys.path.append('/eos/home-d/dcostasr/SWAN_projects/software/hipy')\n",
    "\n",
    "import numpy       as np\n",
    "import pandas      as pd\n",
    "import hipy.pltext as pltext\n",
    "import awkward     as ak\n",
    "import matplotlib.pyplot as plt\n",
    "\n",
    "from wcte.brbtools import sort_run_files, get_part_files, select_good_parts\n",
    "from tqdm          import tqdm\n",
    "\n",
    "%load_ext autoreload\n",
    "%autoreload 2\n",
    "\n",
    "pltext.style()"
   ]
  },
  {
   "cell_type": "code",
   "execution_count": 2,
   "id": "7c358217",
   "metadata": {},
   "outputs": [],
   "source": [
    "def get_files_from_part(part_file, run_files):\n",
    "    \"\"\"\n",
    "    Input a part_file number and the run_files list created with sort_run_files.\n",
    "    Extracts all the card_id, channel_id, charge and time information from the hits.\n",
    "    Returns the arrays for the variables for the part_file.\n",
    "    \"\"\"\n",
    "    tree = uproot.open(run_files[part_file]+\":WCTEReadoutWindows\")\n",
    "    file_hit_card_ids    = tree[\"hit_mpmt_card_ids\"].array()\n",
    "    file_hit_channel_ids = tree[\"hit_pmt_channel_ids\"].array()\n",
    "    file_hit_charges     = tree[\"hit_pmt_charges\"].array()\n",
    "    file_hit_times       = tree[\"hit_pmt_times\"].array()\n",
    "\n",
    "    return file_hit_card_ids, file_hit_channel_ids, file_hit_charges, file_hit_times"
   ]
  },
  {
   "cell_type": "code",
   "execution_count": 4,
   "id": "82f72a96",
   "metadata": {},
   "outputs": [
    {
     "name": "stderr",
     "output_type": "stream",
     "text": [
      "Selecting Good Parts: 100%|██████████| 9/9 [00:01<00:00,  5.48it/s]\n"
     ]
    }
   ],
   "source": [
    "run        = 1626\n",
    "run_files  = sort_run_files(f\"/eos/experiment/wcte/data/2025_commissioning/offline_data/{run}/WCTE_offline_R{run}S*P*.root\")\n",
    "part_files = get_part_files(run_files)\n",
    "good_parts = select_good_parts(part_files, run_files)"
   ]
  },
  {
   "cell_type": "code",
   "execution_count": 6,
   "id": "e50aa193",
   "metadata": {},
   "outputs": [],
   "source": [
    "with open('/eos/home-d/dcostasr/SWAN_projects/NiCf/offline_trigger/mmc_map_R1609.json') as f:\n",
    "    mcc_map = json.load(f)\n",
    "\n",
    "d = {}\n",
    "for k,v in zip(mcc_map.keys(), mcc_map.values()):\n",
    "    card, channel = [int(i) for i in str(int(k)/100).split(\".\")]\n",
    "    d[(card, channel)] = v\n",
    "\n",
    "mcc_map = d"
   ]
  },
  {
   "cell_type": "code",
   "execution_count": null,
   "id": "141d4dca",
   "metadata": {},
   "outputs": [],
   "source": [
    "def create_df_from_file_fast(files, time_correction_map, max_card=130, max_channel=20):\n",
    "    \"\"\"\n",
    "    Rápido: Aplica las correcciones de tiempo usando un índice único para (card, channel).\n",
    "    - files: salida de get_files_from_part\n",
    "    - time_correction_map: diccionario {(card, channel): corrección}\n",
    "    - max_card, max_channel: límites máximos esperados para tarjetas y canales (por defecto: 100)\n",
    "    \"\"\"\n",
    "\n",
    "    cards        = files[0]\n",
    "    channels     = files[1]\n",
    "    charge       = files[2]\n",
    "    hit_times    = files[3]\n",
    "\n",
    "    nevents = len(cards)\n",
    "    evts    = np.arange(nevents)\n",
    "    nhits   = [len(cards[ievt]) for ievt in evts]\n",
    "    evt_column = np.repeat(evts, nhits)\n",
    "\n",
    "    # Flatten de los arrays\n",
    "    xcards    = ak.flatten(cards)\n",
    "    xchannels = ak.flatten(channels)\n",
    "    xtimes    = ak.flatten(hit_times)\n",
    "\n",
    "    # Convertimos a NumPy\n",
    "    xcards_np    = np.array(xcards, dtype=np.int32)\n",
    "    xchannels_np = np.array(xchannels, dtype=np.int32)\n",
    "    xtimes_np    = np.array(xtimes, dtype=np.float32)\n",
    "\n",
    "    # Creamos array de correcciones a partir del dict\n",
    "    correction_array = np.zeros(max_card * max_channel, dtype=np.float32)\n",
    "    for (card, channel), value in time_correction_map.items():\n",
    "        idx = card * max_channel + channel\n",
    "        correction_array[idx] = value\n",
    "\n",
    "    # Índice plano por fila\n",
    "    flat_index = xcards_np * max_channel + xchannels_np\n",
    "    xcorrections = correction_array[flat_index]\n",
    "\n",
    "    # Aplicamos la corrección\n",
    "    xtimes_corrected = xtimes_np + xcorrections\n",
    "\n",
    "    # Creamos el DataFrame con los tiempos corregidos\n",
    "    df = pd.DataFrame({\n",
    "        'evt':  evt_column,\n",
    "        'time_corrected': xtimes_corrected\n",
    "    })\n",
    "\n",
    "    return df\n"
   ]
  },
  {
   "cell_type": "code",
   "execution_count": 9,
   "id": "8e1df85a",
   "metadata": {},
   "outputs": [
    {
     "name": "stderr",
     "output_type": "stream",
     "text": [
      "100%|██████████| 2/2 [00:10<00:00,  5.29s/it]\n"
     ]
    }
   ],
   "source": [
    "dfs = []\n",
    "evt_offset = 0\n",
    "for ipar in tqdm(good_parts[:2], total=len(good_parts[:2])):\n",
    "    files = get_files_from_part(good_parts[ipar], run_files)\n",
    "    df    = create_df_from_file_fast(files, mcc_map)\n",
    "    df['evt'] += evt_offset\n",
    "    evt_offset = df['evt'].max() + 1\n",
    "    dfs.append(df)\n",
    "\n",
    "df_concat = pd.concat(dfs)"
   ]
  },
  {
   "cell_type": "code",
   "execution_count": 12,
   "id": "3930196a",
   "metadata": {},
   "outputs": [],
   "source": [
    "times_array  = df_concat[\"time_corrected\"].values\n",
    "events_array = df_concat[\"evt\"].values\n",
    "event_time_correction = (events_array+1//512)*2**32*8\n",
    "times_array  = times_array + event_time_correction\n",
    "df_concat[\"time_corrected\"] = times_array "
   ]
  },
  {
   "cell_type": "code",
   "execution_count": 13,
   "id": "6f16eaf0",
   "metadata": {},
   "outputs": [],
   "source": [
    "unique_evts, evt_starts = np.unique(events_array, return_index=True)"
   ]
  },
  {
   "cell_type": "code",
   "execution_count": 7,
   "id": "57737666",
   "metadata": {},
   "outputs": [],
   "source": [
    "def nHits_trigger_numpy(unique_evts, evt_starts, time_array, trigger_window=200, pre_trigger_window=10, post_trigger_window=10, trigger_threshold=100):\n",
    "    \"\"\"\n",
    "    Sliding window nHits trigger using only NumPy.\n",
    "    Returns a list of indices belonging to windows that triggered.\n",
    "    \"\"\"\n",
    "    time_array = np.asarray(time_array)\n",
    "    triggered_indices = []\n",
    "\n",
    "    for i in tqdm(range(len(unique_evts))):\n",
    "        start_idx = evt_starts[i]\n",
    "        end_idx = evt_starts[i + 1] if i + 1 < len(evt_starts) else len(time_array)\n",
    "\n",
    "        evt_times = time_array[start_idx:end_idx]\n",
    "        idxs = np.arange(start_idx, end_idx)\n",
    "\n",
    "        # Sort times within the event for efficient sliding window\n",
    "        order = np.argsort(evt_times)\n",
    "        evt_times_sorted = evt_times[order]\n",
    "\n",
    "        # Two-pointer sliding window\n",
    "        left = 0\n",
    "        for right in range(len(evt_times_sorted)):\n",
    "            while evt_times_sorted[right] - evt_times_sorted[left] >= trigger_window:\n",
    "                left += 1\n",
    "            if (right - left + 1) >= trigger_threshold:\n",
    "                t_trigger = evt_times_sorted[left]\n",
    "\n",
    "                # Select indices that fall within the extended window\n",
    "                extended_mask = (evt_times >= t_trigger - pre_trigger_window) & \\\n",
    "                                (evt_times < t_trigger + trigger_window + post_trigger_window)\n",
    "                triggered_indices.append(idxs[extended_mask])\n",
    "                break  # only one trigger per event\n",
    "\n",
    "    # Concatenate all triggered indices into a single array\n",
    "    if triggered_indices:\n",
    "        return np.concatenate(triggered_indices)\n",
    "    else:\n",
    "        return np.array([], dtype=int)\n"
   ]
  },
  {
   "cell_type": "code",
   "execution_count": null,
   "id": "32cb18d9",
   "metadata": {},
   "outputs": [
    {
     "name": "stderr",
     "output_type": "stream",
     "text": [
      " 42%|████▏     | 305/723 [05:57<13:45,  1.98s/it]"
     ]
    }
   ],
   "source": [
    "triggered_idx = nHits_trigger_numpy(unique_evts, evt_starts, times_array)"
   ]
  },
  {
   "cell_type": "code",
   "execution_count": 46,
   "id": "b169633c",
   "metadata": {},
   "outputs": [],
   "source": [
    "df_triggered = df_concat.iloc[triggered_idx]"
   ]
  },
  {
   "cell_type": "code",
   "execution_count": 53,
   "id": "b52687bc",
   "metadata": {},
   "outputs": [
    {
     "data": {
      "image/png": "[encoded data removed]",
      "text/plain": [
       "<Figure size 640x480 with 1 Axes>"
      ]
     },
     "metadata": {},
     "output_type": "display_data"
    }
   ],
   "source": [
    "event = np.unique(df_triggered[\"evt\"])[i]\n",
    "pltext.hist(df_concat[df_concat[\"evt\"].values == event][\"time_corrected\"], 100, ylog=True);\n",
    "pltext.hist(df_triggered[df_triggered[\"evt\"].values == event][\"time_corrected\"], 100, ylog=True, xylabels=\"Time [ns]\", label=f\"Event {event}\");"
   ]
  },
  {
   "cell_type": "code",
   "execution_count": null,
   "id": "d89ee647",
   "metadata": {},
   "outputs": [],
   "source": [
    "del unique_evts\n",
    "del evt_starts\n",
    "del times_array\n",
    "gc.collect()"
   ]
  },
  {
   "cell_type": "code",
   "execution_count": null,
   "id": "94bb55cf",
   "metadata": {},
   "outputs": [],
   "source": []
  }
 ],
 "metadata": {
  "kernelspec": {
   "display_name": "wcte",
   "language": "python",
   "name": "python3"
  },
  "language_info": {
   "codemirror_mode": {
    "name": "ipython",
    "version": 3
   },
   "file_extension": ".py",
   "mimetype": "text/x-python",
   "name": "python",
   "nbconvert_exporter": "python",
   "pygments_lexer": "ipython3",
   "version": "3.10.16"
  }
 },
 "nbformat": 4,
 "nbformat_minor": 5
}
